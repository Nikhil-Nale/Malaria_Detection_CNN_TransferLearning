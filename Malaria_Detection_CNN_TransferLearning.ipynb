{
  "nbformat": 4,
  "nbformat_minor": 0,
  "metadata": {
    "colab": {
      "name": "Malaria_Detection_CNN_TransferLearning.ipynb",
      "provenance": [],
      "collapsed_sections": []
    },
    "kernelspec": {
      "name": "python3",
      "display_name": "Python 3"
    },
    "language_info": {
      "name": "python"
    },
    "accelerator": "GPU"
  },
  "cells": [
    {
      "cell_type": "code",
      "metadata": {
        "id": "J1LtMvDo2vob"
      },
      "source": [
        "# Import the libraries:\n",
        "from tensorflow.keras.layers import Input, Lambda, Dense, Flatten, Conv2D\n",
        "from tensorflow.keras.models import Model\n",
        "from tensorflow.keras.applications.vgg19 import VGG19\n",
        "from tensorflow.keras.applications.resnet50 import preprocess_input\n",
        "from tensorflow.keras.preprocessing import image\n",
        "from tensorflow.keras.preprocessing.image import ImageDataGenerator,load_img\n",
        "from tensorflow.keras.models import Sequential\n",
        "import numpy as np\n",
        "from glob import glob\n",
        "import matplotlib.pyplot as plt"
      ],
      "execution_count": 1,
      "outputs": []
    },
    {
      "cell_type": "code",
      "metadata": {
        "colab": {
          "base_uri": "https://localhost:8080/"
        },
        "id": "rGU5-UB669Hh",
        "outputId": "9d6b56ca-fcfa-40cc-b172-fcbef10c64fa"
      },
      "source": [
        "from google.colab import drive\n",
        "drive.mount(\"/content/drive\")"
      ],
      "execution_count": 2,
      "outputs": [
        {
          "output_type": "stream",
          "text": [
            "Mounted at /content/drive\n"
          ],
          "name": "stdout"
        }
      ]
    },
    {
      "cell_type": "code",
      "metadata": {
        "id": "NH27vmOz3gUk"
      },
      "source": [
        "# Resize all the images to this \n",
        "IMAGE_SIZE = [224, 224]\n",
        "\n",
        "train_path = '/content/drive/MyDrive/Dataset/Train'\n",
        "valid_path = '/content/drive/MyDrive/Dataset/Test'"
      ],
      "execution_count": 3,
      "outputs": []
    },
    {
      "cell_type": "code",
      "metadata": {
        "colab": {
          "base_uri": "https://localhost:8080/"
        },
        "id": "v0wmzUGd83th",
        "outputId": "f383cc5a-5151-49b5-b1e1-702eb1410f6c"
      },
      "source": [
        "# Import the vgg19 Library as shown below and add preprocessing layer to the front of VGG\n",
        "# Here we will be using imagenet weights\n",
        "\n",
        "mobilenet = VGG19(input_shape = IMAGE_SIZE + [3], weights = 'imagenet', include_top = False)"
      ],
      "execution_count": 4,
      "outputs": [
        {
          "output_type": "stream",
          "text": [
            "Downloading data from https://storage.googleapis.com/tensorflow/keras-applications/vgg19/vgg19_weights_tf_dim_ordering_tf_kernels_notop.h5\n",
            "80142336/80134624 [==============================] - 1s 0us/step\n"
          ],
          "name": "stdout"
        }
      ]
    },
    {
      "cell_type": "code",
      "metadata": {
        "id": "t6sUZx06-3gm"
      },
      "source": [
        "# Don't train existing weights\n",
        "for layer in mobilenet.layers:    # I want to freeze a pre-trained network in Keras\n",
        "  layer.trainable = False"
      ],
      "execution_count": 5,
      "outputs": []
    },
    {
      "cell_type": "code",
      "metadata": {
        "id": "cRZ3c63ABjlx"
      },
      "source": [
        "# usefull for getting numbers of classes\n",
        "folder = glob('/content/drive/MyDrive/Dataset/Train/*')"
      ],
      "execution_count": 7,
      "outputs": []
    },
    {
      "cell_type": "code",
      "metadata": {
        "colab": {
          "base_uri": "https://localhost:8080/"
        },
        "id": "rDX99SviB65r",
        "outputId": "68327623-b2bd-4d1c-a2d5-67de418439ad"
      },
      "source": [
        "folder"
      ],
      "execution_count": 8,
      "outputs": [
        {
          "output_type": "execute_result",
          "data": {
            "text/plain": [
              "['/content/drive/MyDrive/Dataset/Train/Uninfected',\n",
              " '/content/drive/MyDrive/Dataset/Train/Parasite']"
            ]
          },
          "metadata": {
            "tags": []
          },
          "execution_count": 8
        }
      ]
    },
    {
      "cell_type": "code",
      "metadata": {
        "id": "bJueBvS-B72b"
      },
      "source": [
        "# our layers -- you can add more if you want\n",
        "x = Flatten()(mobilenet.output)"
      ],
      "execution_count": 9,
      "outputs": []
    },
    {
      "cell_type": "code",
      "metadata": {
        "colab": {
          "base_uri": "https://localhost:8080/"
        },
        "id": "93LPSkSKC7Ci",
        "outputId": "e0078503-d228-48d8-dc49-913e4fac7283"
      },
      "source": [
        "mobilenet.output"
      ],
      "execution_count": 10,
      "outputs": [
        {
          "output_type": "execute_result",
          "data": {
            "text/plain": [
              "<KerasTensor: shape=(None, 7, 7, 512) dtype=float32 (created by layer 'block5_pool')>"
            ]
          },
          "metadata": {
            "tags": []
          },
          "execution_count": 10
        }
      ]
    },
    {
      "cell_type": "code",
      "metadata": {
        "colab": {
          "base_uri": "https://localhost:8080/"
        },
        "id": "2ritIcgXC-a4",
        "outputId": "d23277de-baf6-41d7-82cd-34d9e95eff15"
      },
      "source": [
        "x"
      ],
      "execution_count": 11,
      "outputs": [
        {
          "output_type": "execute_result",
          "data": {
            "text/plain": [
              "<KerasTensor: shape=(None, 25088) dtype=float32 (created by layer 'flatten')>"
            ]
          },
          "metadata": {
            "tags": []
          },
          "execution_count": 11
        }
      ]
    },
    {
      "cell_type": "code",
      "metadata": {
        "colab": {
          "base_uri": "https://localhost:8080/"
        },
        "id": "HILj0sdLDB3p",
        "outputId": "18daf1e6-50b7-4886-96d4-7d75347c3c9e"
      },
      "source": [
        "7*7*512"
      ],
      "execution_count": 12,
      "outputs": [
        {
          "output_type": "execute_result",
          "data": {
            "text/plain": [
              "25088"
            ]
          },
          "metadata": {
            "tags": []
          },
          "execution_count": 12
        }
      ]
    },
    {
      "cell_type": "code",
      "metadata": {
        "colab": {
          "base_uri": "https://localhost:8080/"
        },
        "id": "4OmnTL2NDWC9",
        "outputId": "5c638d7a-bf29-4402-a647-58f06bc2663f"
      },
      "source": [
        "len(folder)"
      ],
      "execution_count": 13,
      "outputs": [
        {
          "output_type": "execute_result",
          "data": {
            "text/plain": [
              "2"
            ]
          },
          "metadata": {
            "tags": []
          },
          "execution_count": 13
        }
      ]
    },
    {
      "cell_type": "code",
      "metadata": {
        "id": "i4sjLUCPD2mH"
      },
      "source": [
        "prediction = Dense(len(folder), activation='softmax')(x)\n",
        "\n",
        "# Create a model boject\n",
        "model = Model(inputs = mobilenet.input, outputs = prediction)"
      ],
      "execution_count": 14,
      "outputs": []
    },
    {
      "cell_type": "code",
      "metadata": {
        "colab": {
          "base_uri": "https://localhost:8080/"
        },
        "id": "UWoMxKnFGVU7",
        "outputId": "96851aec-8392-46f2-c268-51175519c87b"
      },
      "source": [
        "mobilenet.input"
      ],
      "execution_count": 16,
      "outputs": [
        {
          "output_type": "execute_result",
          "data": {
            "text/plain": [
              "<KerasTensor: shape=(None, 224, 224, 3) dtype=float32 (created by layer 'input_1')>"
            ]
          },
          "metadata": {
            "tags": []
          },
          "execution_count": 16
        }
      ]
    },
    {
      "cell_type": "code",
      "metadata": {
        "colab": {
          "base_uri": "https://localhost:8080/"
        },
        "id": "KTVu7DvTGXYj",
        "outputId": "d0fb5baa-67fa-4d67-fb80-4266a327bda5"
      },
      "source": [
        "prediction"
      ],
      "execution_count": 17,
      "outputs": [
        {
          "output_type": "execute_result",
          "data": {
            "text/plain": [
              "<KerasTensor: shape=(None, 2) dtype=float32 (created by layer 'dense')>"
            ]
          },
          "metadata": {
            "tags": []
          },
          "execution_count": 17
        }
      ]
    },
    {
      "cell_type": "code",
      "metadata": {
        "colab": {
          "base_uri": "https://localhost:8080/"
        },
        "id": "Vt_xLhHJGYbY",
        "outputId": "9e3ca8fb-9c55-4323-b787-839a8f7c9d4f"
      },
      "source": [
        "# View the structure of the model\n",
        "model.summary()"
      ],
      "execution_count": 18,
      "outputs": [
        {
          "output_type": "stream",
          "text": [
            "Model: \"model\"\n",
            "_________________________________________________________________\n",
            "Layer (type)                 Output Shape              Param #   \n",
            "=================================================================\n",
            "input_1 (InputLayer)         [(None, 224, 224, 3)]     0         \n",
            "_________________________________________________________________\n",
            "block1_conv1 (Conv2D)        (None, 224, 224, 64)      1792      \n",
            "_________________________________________________________________\n",
            "block1_conv2 (Conv2D)        (None, 224, 224, 64)      36928     \n",
            "_________________________________________________________________\n",
            "block1_pool (MaxPooling2D)   (None, 112, 112, 64)      0         \n",
            "_________________________________________________________________\n",
            "block2_conv1 (Conv2D)        (None, 112, 112, 128)     73856     \n",
            "_________________________________________________________________\n",
            "block2_conv2 (Conv2D)        (None, 112, 112, 128)     147584    \n",
            "_________________________________________________________________\n",
            "block2_pool (MaxPooling2D)   (None, 56, 56, 128)       0         \n",
            "_________________________________________________________________\n",
            "block3_conv1 (Conv2D)        (None, 56, 56, 256)       295168    \n",
            "_________________________________________________________________\n",
            "block3_conv2 (Conv2D)        (None, 56, 56, 256)       590080    \n",
            "_________________________________________________________________\n",
            "block3_conv3 (Conv2D)        (None, 56, 56, 256)       590080    \n",
            "_________________________________________________________________\n",
            "block3_conv4 (Conv2D)        (None, 56, 56, 256)       590080    \n",
            "_________________________________________________________________\n",
            "block3_pool (MaxPooling2D)   (None, 28, 28, 256)       0         \n",
            "_________________________________________________________________\n",
            "block4_conv1 (Conv2D)        (None, 28, 28, 512)       1180160   \n",
            "_________________________________________________________________\n",
            "block4_conv2 (Conv2D)        (None, 28, 28, 512)       2359808   \n",
            "_________________________________________________________________\n",
            "block4_conv3 (Conv2D)        (None, 28, 28, 512)       2359808   \n",
            "_________________________________________________________________\n",
            "block4_conv4 (Conv2D)        (None, 28, 28, 512)       2359808   \n",
            "_________________________________________________________________\n",
            "block4_pool (MaxPooling2D)   (None, 14, 14, 512)       0         \n",
            "_________________________________________________________________\n",
            "block5_conv1 (Conv2D)        (None, 14, 14, 512)       2359808   \n",
            "_________________________________________________________________\n",
            "block5_conv2 (Conv2D)        (None, 14, 14, 512)       2359808   \n",
            "_________________________________________________________________\n",
            "block5_conv3 (Conv2D)        (None, 14, 14, 512)       2359808   \n",
            "_________________________________________________________________\n",
            "block5_conv4 (Conv2D)        (None, 14, 14, 512)       2359808   \n",
            "_________________________________________________________________\n",
            "block5_pool (MaxPooling2D)   (None, 7, 7, 512)         0         \n",
            "_________________________________________________________________\n",
            "flatten (Flatten)            (None, 25088)             0         \n",
            "_________________________________________________________________\n",
            "dense (Dense)                (None, 2)                 50178     \n",
            "=================================================================\n",
            "Total params: 20,074,562\n",
            "Trainable params: 50,178\n",
            "Non-trainable params: 20,024,384\n",
            "_________________________________________________________________\n"
          ],
          "name": "stdout"
        }
      ]
    },
    {
      "cell_type": "code",
      "metadata": {
        "id": "7xzSGD9zGiMa"
      },
      "source": [
        "from tensorflow.keras.layers import MaxPooling2D"
      ],
      "execution_count": 19,
      "outputs": []
    },
    {
      "cell_type": "code",
      "metadata": {
        "colab": {
          "base_uri": "https://localhost:8080/"
        },
        "id": "C0tFga4iHIVm",
        "outputId": "a91d5629-07e5-4772-86ff-27c98396d4ea"
      },
      "source": [
        "# Create a model from scratch using CNN\n",
        "\n",
        "model = Sequential()\n",
        "model.add(Conv2D(filters=16, kernel_size=2, padding='same', activation='relu', input_shape = (224, 224, 3)))\n",
        "model.add(MaxPooling2D(pool_size=2))\n",
        "\n",
        "model.add(Conv2D(filters=32, kernel_size=2, padding='same', activation='relu'))\n",
        "model.add(MaxPooling2D(pool_size=2))\n",
        "\n",
        "model.add(Conv2D(filters=64,kernel_size=2,padding=\"same\",activation=\"relu\"))\n",
        "model.add(MaxPooling2D(pool_size=2))\n",
        "\n",
        "model.add(Flatten())\n",
        "\n",
        "model.add(Dense(500, activation='relu'))\n",
        "model.add(Dense(2, activation='softmax'))\n",
        "\n",
        "model.summary()"
      ],
      "execution_count": 20,
      "outputs": [
        {
          "output_type": "stream",
          "text": [
            "Model: \"sequential\"\n",
            "_________________________________________________________________\n",
            "Layer (type)                 Output Shape              Param #   \n",
            "=================================================================\n",
            "conv2d (Conv2D)              (None, 224, 224, 16)      208       \n",
            "_________________________________________________________________\n",
            "max_pooling2d (MaxPooling2D) (None, 112, 112, 16)      0         \n",
            "_________________________________________________________________\n",
            "conv2d_1 (Conv2D)            (None, 112, 112, 32)      2080      \n",
            "_________________________________________________________________\n",
            "max_pooling2d_1 (MaxPooling2 (None, 56, 56, 32)        0         \n",
            "_________________________________________________________________\n",
            "conv2d_2 (Conv2D)            (None, 56, 56, 64)        8256      \n",
            "_________________________________________________________________\n",
            "max_pooling2d_2 (MaxPooling2 (None, 28, 28, 64)        0         \n",
            "_________________________________________________________________\n",
            "flatten_1 (Flatten)          (None, 50176)             0         \n",
            "_________________________________________________________________\n",
            "dense_1 (Dense)              (None, 500)               25088500  \n",
            "_________________________________________________________________\n",
            "dense_2 (Dense)              (None, 2)                 1002      \n",
            "=================================================================\n",
            "Total params: 25,100,046\n",
            "Trainable params: 25,100,046\n",
            "Non-trainable params: 0\n",
            "_________________________________________________________________\n"
          ],
          "name": "stdout"
        }
      ]
    },
    {
      "cell_type": "code",
      "metadata": {
        "id": "f0kwI08nHzoi"
      },
      "source": [
        "# tell the model what cost and optimization method to use\n",
        "\n",
        "model.compile(\n",
        "    loss='categorical_crossentropy',\n",
        "    optimizer='adam',\n",
        "    metrics=['accuracy']\n",
        ")"
      ],
      "execution_count": 22,
      "outputs": []
    },
    {
      "cell_type": "code",
      "metadata": {
        "id": "fTdwFtjjJ6U5"
      },
      "source": [
        "#use the ImageDataGeneretor to import the imgaes from the dataset\n",
        "\n",
        "from tensorflow.keras.preprocessing.image import ImageDataGenerator   # Generate batches of tensor image data with real-time data augmentation.\n",
        "\n",
        "train_datagen = ImageDataGenerator(rescale=1./255,\n",
        "                                   shear_range=0.2,\n",
        "                                   zoom_range=0.2,\n",
        "                                   horizontal_flip = True)\n",
        "\n",
        "test_datagen = ImageDataGenerator(rescale=1./255)"
      ],
      "execution_count": 23,
      "outputs": []
    },
    {
      "cell_type": "code",
      "metadata": {
        "colab": {
          "base_uri": "https://localhost:8080/"
        },
        "id": "8SL3NJimLqf2",
        "outputId": "82744e09-6857-47c5-ecb8-d1b23d417508"
      },
      "source": [
        "# Make sure you provide the same target size as intialize for the image size\n",
        "\n",
        "training_set = train_datagen.flow_from_directory('/content/drive/MyDrive/Dataset/Train',\n",
        "                                                 target_size = (224, 224),\n",
        "                                                 batch_size = 32,\n",
        "                                                 class_mode = 'categorical')"
      ],
      "execution_count": 24,
      "outputs": [
        {
          "output_type": "stream",
          "text": [
            "Found 416 images belonging to 2 classes.\n"
          ],
          "name": "stdout"
        }
      ]
    },
    {
      "cell_type": "code",
      "metadata": {
        "colab": {
          "base_uri": "https://localhost:8080/"
        },
        "id": "zl9_pdhuMpPA",
        "outputId": "7e83fdf2-21c9-4fab-e06f-cfb2ae83cce4"
      },
      "source": [
        "training_set"
      ],
      "execution_count": 25,
      "outputs": [
        {
          "output_type": "execute_result",
          "data": {
            "text/plain": [
              "<tensorflow.python.keras.preprocessing.image.DirectoryIterator at 0x7f87bed04850>"
            ]
          },
          "metadata": {
            "tags": []
          },
          "execution_count": 25
        }
      ]
    },
    {
      "cell_type": "code",
      "metadata": {
        "colab": {
          "base_uri": "https://localhost:8080/"
        },
        "id": "KFCnCRYfMtg2",
        "outputId": "8cf443ce-7033-48f4-a84b-7037aec655d2"
      },
      "source": [
        "test_set = test_datagen.flow_from_directory('/content/drive/MyDrive/Dataset/Test',\n",
        "                                            target_size = (224, 224),\n",
        "                                            batch_size = 32,\n",
        "                                            class_mode = 'categorical')"
      ],
      "execution_count": 26,
      "outputs": [
        {
          "output_type": "stream",
          "text": [
            "Found 134 images belonging to 2 classes.\n"
          ],
          "name": "stdout"
        }
      ]
    },
    {
      "cell_type": "code",
      "metadata": {
        "colab": {
          "base_uri": "https://localhost:8080/"
        },
        "id": "cMaaHMNdOzBy",
        "outputId": "8f97d717-336e-4bd9-e2a4-e90f53101d68"
      },
      "source": [
        "# fit the model\n",
        "# run the cell. It will take some time to execute\n",
        "\n",
        "r = model.fit_generator(\n",
        "    training_set,\n",
        "    steps_per_epoch = len(training_set),\n",
        "    epochs=50,\n",
        "    verbose=1,\n",
        "    validation_data = test_set,\n",
        "    validation_steps = len(test_set)\n",
        "\n",
        ")"
      ],
      "execution_count": 27,
      "outputs": [
        {
          "output_type": "stream",
          "text": [
            "/usr/local/lib/python3.7/dist-packages/tensorflow/python/keras/engine/training.py:1844: UserWarning: `Model.fit_generator` is deprecated and will be removed in a future version. Please use `Model.fit`, which supports generators.\n",
            "  warnings.warn('`Model.fit_generator` is deprecated and '\n"
          ],
          "name": "stderr"
        },
        {
          "output_type": "stream",
          "text": [
            "Epoch 1/50\n",
            "13/13 [==============================] - 258s 18s/step - loss: 2.0336 - accuracy: 0.5407 - val_loss: 0.7161 - val_accuracy: 0.4851\n",
            "Epoch 2/50\n",
            "13/13 [==============================] - 6s 488ms/step - loss: 0.5633 - accuracy: 0.6899 - val_loss: 1.2210 - val_accuracy: 0.3134\n",
            "Epoch 3/50\n",
            "13/13 [==============================] - 6s 492ms/step - loss: 0.5737 - accuracy: 0.6859 - val_loss: 0.8173 - val_accuracy: 0.5149\n",
            "Epoch 4/50\n",
            "13/13 [==============================] - 6s 487ms/step - loss: 0.5215 - accuracy: 0.7462 - val_loss: 1.4258 - val_accuracy: 0.3209\n",
            "Epoch 5/50\n",
            "13/13 [==============================] - 6s 484ms/step - loss: 0.5927 - accuracy: 0.6708 - val_loss: 0.7076 - val_accuracy: 0.5224\n",
            "Epoch 6/50\n",
            "13/13 [==============================] - 6s 483ms/step - loss: 0.4720 - accuracy: 0.7786 - val_loss: 0.9560 - val_accuracy: 0.4552\n",
            "Epoch 7/50\n",
            "13/13 [==============================] - 6s 488ms/step - loss: 0.4422 - accuracy: 0.7755 - val_loss: 0.8467 - val_accuracy: 0.5000\n",
            "Epoch 8/50\n",
            "13/13 [==============================] - 6s 485ms/step - loss: 0.3481 - accuracy: 0.8500 - val_loss: 0.6518 - val_accuracy: 0.5522\n",
            "Epoch 9/50\n",
            "13/13 [==============================] - 6s 482ms/step - loss: 0.2705 - accuracy: 0.9079 - val_loss: 0.6297 - val_accuracy: 0.6567\n",
            "Epoch 10/50\n",
            "13/13 [==============================] - 6s 485ms/step - loss: 0.2536 - accuracy: 0.9004 - val_loss: 0.6504 - val_accuracy: 0.6940\n",
            "Epoch 11/50\n",
            "13/13 [==============================] - 6s 487ms/step - loss: 0.2155 - accuracy: 0.9358 - val_loss: 0.4446 - val_accuracy: 0.7612\n",
            "Epoch 12/50\n",
            "13/13 [==============================] - 6s 490ms/step - loss: 0.1899 - accuracy: 0.9360 - val_loss: 0.4798 - val_accuracy: 0.7687\n",
            "Epoch 13/50\n",
            "13/13 [==============================] - 6s 487ms/step - loss: 0.1994 - accuracy: 0.9589 - val_loss: 0.5246 - val_accuracy: 0.7687\n",
            "Epoch 14/50\n",
            "13/13 [==============================] - 6s 485ms/step - loss: 0.1464 - accuracy: 0.9547 - val_loss: 0.3744 - val_accuracy: 0.7985\n",
            "Epoch 15/50\n",
            "13/13 [==============================] - 6s 488ms/step - loss: 0.1545 - accuracy: 0.9488 - val_loss: 0.3747 - val_accuracy: 0.8209\n",
            "Epoch 16/50\n",
            "13/13 [==============================] - 6s 484ms/step - loss: 0.1506 - accuracy: 0.9490 - val_loss: 0.4257 - val_accuracy: 0.8134\n",
            "Epoch 17/50\n",
            "13/13 [==============================] - 6s 487ms/step - loss: 0.1783 - accuracy: 0.9480 - val_loss: 0.4295 - val_accuracy: 0.7985\n",
            "Epoch 18/50\n",
            "13/13 [==============================] - 6s 486ms/step - loss: 0.3232 - accuracy: 0.8553 - val_loss: 0.4186 - val_accuracy: 0.8209\n",
            "Epoch 19/50\n",
            "13/13 [==============================] - 6s 491ms/step - loss: 0.2304 - accuracy: 0.9450 - val_loss: 0.3538 - val_accuracy: 0.8358\n",
            "Epoch 20/50\n",
            "13/13 [==============================] - 6s 485ms/step - loss: 0.1275 - accuracy: 0.9553 - val_loss: 0.3307 - val_accuracy: 0.8507\n",
            "Epoch 21/50\n",
            "13/13 [==============================] - 6s 485ms/step - loss: 0.1203 - accuracy: 0.9475 - val_loss: 0.2837 - val_accuracy: 0.8657\n",
            "Epoch 22/50\n",
            "13/13 [==============================] - 6s 489ms/step - loss: 0.0872 - accuracy: 0.9699 - val_loss: 0.2705 - val_accuracy: 0.9030\n",
            "Epoch 23/50\n",
            "13/13 [==============================] - 6s 488ms/step - loss: 0.0552 - accuracy: 0.9902 - val_loss: 0.2829 - val_accuracy: 0.8806\n",
            "Epoch 24/50\n",
            "13/13 [==============================] - 6s 485ms/step - loss: 0.0683 - accuracy: 0.9788 - val_loss: 0.2804 - val_accuracy: 0.8881\n",
            "Epoch 25/50\n",
            "13/13 [==============================] - 6s 482ms/step - loss: 0.0548 - accuracy: 0.9866 - val_loss: 0.2419 - val_accuracy: 0.9104\n",
            "Epoch 26/50\n",
            "13/13 [==============================] - 6s 484ms/step - loss: 0.0640 - accuracy: 0.9917 - val_loss: 0.2412 - val_accuracy: 0.8806\n",
            "Epoch 27/50\n",
            "13/13 [==============================] - 6s 484ms/step - loss: 0.0689 - accuracy: 0.9927 - val_loss: 0.3192 - val_accuracy: 0.8806\n",
            "Epoch 28/50\n",
            "13/13 [==============================] - 6s 484ms/step - loss: 0.1045 - accuracy: 0.9700 - val_loss: 0.2352 - val_accuracy: 0.8955\n",
            "Epoch 29/50\n",
            "13/13 [==============================] - 6s 484ms/step - loss: 0.0820 - accuracy: 0.9774 - val_loss: 0.2146 - val_accuracy: 0.9179\n",
            "Epoch 30/50\n",
            "13/13 [==============================] - 6s 482ms/step - loss: 0.0959 - accuracy: 0.9815 - val_loss: 0.2010 - val_accuracy: 0.9030\n",
            "Epoch 31/50\n",
            "13/13 [==============================] - 6s 483ms/step - loss: 0.0605 - accuracy: 0.9940 - val_loss: 0.2893 - val_accuracy: 0.8806\n",
            "Epoch 32/50\n",
            "13/13 [==============================] - 6s 485ms/step - loss: 0.0605 - accuracy: 0.9792 - val_loss: 0.3224 - val_accuracy: 0.8806\n",
            "Epoch 33/50\n",
            "13/13 [==============================] - 6s 484ms/step - loss: 0.0937 - accuracy: 0.9773 - val_loss: 0.1645 - val_accuracy: 0.9328\n",
            "Epoch 34/50\n",
            "13/13 [==============================] - 6s 488ms/step - loss: 0.0646 - accuracy: 0.9905 - val_loss: 0.2447 - val_accuracy: 0.9030\n",
            "Epoch 35/50\n",
            "13/13 [==============================] - 6s 482ms/step - loss: 0.0383 - accuracy: 0.9881 - val_loss: 0.1857 - val_accuracy: 0.9104\n",
            "Epoch 36/50\n",
            "13/13 [==============================] - 6s 484ms/step - loss: 0.0501 - accuracy: 0.9887 - val_loss: 0.5417 - val_accuracy: 0.8284\n",
            "Epoch 37/50\n",
            "13/13 [==============================] - 6s 489ms/step - loss: 0.0464 - accuracy: 0.9924 - val_loss: 0.2059 - val_accuracy: 0.9104\n",
            "Epoch 38/50\n",
            "13/13 [==============================] - 6s 487ms/step - loss: 0.0298 - accuracy: 0.9907 - val_loss: 0.2325 - val_accuracy: 0.9179\n",
            "Epoch 39/50\n",
            "13/13 [==============================] - 6s 490ms/step - loss: 0.0375 - accuracy: 0.9915 - val_loss: 0.1724 - val_accuracy: 0.9552\n",
            "Epoch 40/50\n",
            "13/13 [==============================] - 6s 482ms/step - loss: 0.0596 - accuracy: 0.9829 - val_loss: 0.3380 - val_accuracy: 0.8881\n",
            "Epoch 41/50\n",
            "13/13 [==============================] - 6s 484ms/step - loss: 0.0777 - accuracy: 0.9794 - val_loss: 0.4802 - val_accuracy: 0.8284\n",
            "Epoch 42/50\n",
            "13/13 [==============================] - 6s 481ms/step - loss: 0.1052 - accuracy: 0.9825 - val_loss: 0.2169 - val_accuracy: 0.8881\n",
            "Epoch 43/50\n",
            "13/13 [==============================] - 6s 484ms/step - loss: 0.0881 - accuracy: 0.9763 - val_loss: 0.3816 - val_accuracy: 0.8731\n",
            "Epoch 44/50\n",
            "13/13 [==============================] - 6s 484ms/step - loss: 0.0474 - accuracy: 0.9832 - val_loss: 0.3721 - val_accuracy: 0.8657\n",
            "Epoch 45/50\n",
            "13/13 [==============================] - 6s 480ms/step - loss: 0.0310 - accuracy: 0.9890 - val_loss: 0.1999 - val_accuracy: 0.8955\n",
            "Epoch 46/50\n",
            "13/13 [==============================] - 6s 477ms/step - loss: 0.0401 - accuracy: 0.9910 - val_loss: 0.5228 - val_accuracy: 0.8507\n",
            "Epoch 47/50\n",
            "13/13 [==============================] - 6s 481ms/step - loss: 0.0262 - accuracy: 0.9825 - val_loss: 0.1455 - val_accuracy: 0.9552\n",
            "Epoch 48/50\n",
            "13/13 [==============================] - 6s 486ms/step - loss: 0.0341 - accuracy: 0.9903 - val_loss: 0.5484 - val_accuracy: 0.8582\n",
            "Epoch 49/50\n",
            "13/13 [==============================] - 6s 484ms/step - loss: 0.0678 - accuracy: 0.9830 - val_loss: 0.1806 - val_accuracy: 0.9254\n",
            "Epoch 50/50\n",
            "13/13 [==============================] - 6s 488ms/step - loss: 0.0215 - accuracy: 0.9970 - val_loss: 0.4047 - val_accuracy: 0.8657\n"
          ],
          "name": "stdout"
        }
      ]
    },
    {
      "cell_type": "code",
      "metadata": {
        "id": "w-xJwVx3ULEP",
        "colab": {
          "base_uri": "https://localhost:8080/",
          "height": 530
        },
        "outputId": "a2b259fc-530b-48fe-841d-9fe450460fdc"
      },
      "source": [
        "# plot the loss\n",
        "plt.plot(r.history['loss'], label='train loss')\n",
        "plt.plot(r.history['val_loss'], label='val loss')\n",
        "plt.legend()\n",
        "plt.show()\n",
        "plt.savefig('LossVal_loss')\n",
        "\n",
        "# plot the accuracy\n",
        "plt.plot(r.history['accuracy'], label='train acc')\n",
        "plt.plot(r.history['val_accuracy'], label='val acc')\n",
        "plt.legend()\n",
        "plt.show()\n",
        "plt.savefig('AccVal_acc')"
      ],
      "execution_count": 28,
      "outputs": [
        {
          "output_type": "display_data",
          "data": {
            "image/png": "[encoded data removed]",
            "text/plain": [
              "<Figure size 432x288 with 1 Axes>"
            ]
          },
          "metadata": {
            "tags": [],
            "needs_background": "light"
          }
        },
        {
          "output_type": "display_data",
          "data": {
            "image/png": "[encoded data removed]",
            "text/plain": [
              "<Figure size 432x288 with 1 Axes>"
            ]
          },
          "metadata": {
            "tags": [],
            "needs_background": "light"
          }
        },
        {
          "output_type": "display_data",
          "data": {
            "text/plain": [
              "<Figure size 432x288 with 0 Axes>"
            ]
          },
          "metadata": {
            "tags": []
          }
        }
      ]
    },
    {
      "cell_type": "code",
      "metadata": {
        "id": "YhT7qPBhRWCM"
      },
      "source": [
        "# Save it as a h5 file\n",
        "\n",
        "from tensorflow.keras.models import load_model\n",
        "model.save('model_vgg19.h5')"
      ],
      "execution_count": 29,
      "outputs": []
    },
    {
      "cell_type": "code",
      "metadata": {
        "id": "0k9sqvDERwvJ"
      },
      "source": [
        "y_pred = model.predict(test_set)"
      ],
      "execution_count": 30,
      "outputs": []
    },
    {
      "cell_type": "code",
      "metadata": {
        "id": "8RrnIGJdR3hz",
        "colab": {
          "base_uri": "https://localhost:8080/"
        },
        "outputId": "08b9f580-9b48-43fc-ec97-d1165db67b10"
      },
      "source": [
        "y_pred"
      ],
      "execution_count": 31,
      "outputs": [
        {
          "output_type": "execute_result",
          "data": {
            "text/plain": [
              "array([[9.99969125e-01, 3.08295275e-05],\n",
              "       [9.99989867e-01, 1.01299902e-05],\n",
              "       [9.60132241e-01, 3.98678333e-02],\n",
              "       [9.99999404e-01, 6.49473179e-07],\n",
              "       [1.48170162e-02, 9.85182941e-01],\n",
              "       [9.99986172e-01, 1.38119130e-05],\n",
              "       [9.99565542e-01, 4.34500427e-04],\n",
              "       [9.97679532e-01, 2.32044747e-03],\n",
              "       [1.54239861e-02, 9.84575987e-01],\n",
              "       [9.99989629e-01, 1.03543043e-05],\n",
              "       [5.14287455e-03, 9.94857073e-01],\n",
              "       [9.99911547e-01, 8.84115216e-05],\n",
              "       [2.17343727e-03, 9.97826517e-01],\n",
              "       [9.99997616e-01, 2.41625708e-06],\n",
              "       [1.00000000e+00, 4.52851836e-08],\n",
              "       [1.00000000e+00, 1.47421068e-11],\n",
              "       [1.64710626e-01, 8.35289359e-01],\n",
              "       [5.83276106e-03, 9.94167209e-01],\n",
              "       [1.00000000e+00, 2.18323338e-16],\n",
              "       [1.45827839e-03, 9.98541713e-01],\n",
              "       [5.88221592e-04, 9.99411821e-01],\n",
              "       [9.99521852e-01, 4.78214322e-04],\n",
              "       [6.49858906e-04, 9.99350131e-01],\n",
              "       [8.93371463e-01, 1.06628560e-01],\n",
              "       [9.97176409e-01, 2.82359007e-03],\n",
              "       [2.07249192e-03, 9.97927547e-01],\n",
              "       [9.99925494e-01, 7.44651334e-05],\n",
              "       [9.99880791e-01, 1.19174285e-04],\n",
              "       [9.97030377e-01, 2.96956231e-03],\n",
              "       [2.09924742e-03, 9.97900724e-01],\n",
              "       [9.99974728e-01, 2.52891550e-05],\n",
              "       [2.14634053e-02, 9.78536606e-01],\n",
              "       [9.99416709e-01, 5.83309622e-04],\n",
              "       [5.42447297e-03, 9.94575500e-01],\n",
              "       [9.99048769e-01, 9.51224181e-04],\n",
              "       [1.54297042e-03, 9.98457074e-01],\n",
              "       [7.99190253e-04, 9.99200881e-01],\n",
              "       [4.25843522e-03, 9.95741606e-01],\n",
              "       [1.66548789e-03, 9.98334587e-01],\n",
              "       [9.99863744e-01, 1.36264571e-04],\n",
              "       [1.22925919e-02, 9.87707436e-01],\n",
              "       [1.00000000e+00, 5.10414384e-11],\n",
              "       [9.99999881e-01, 9.84712472e-08],\n",
              "       [9.99168873e-01, 8.31145153e-04],\n",
              "       [9.99949694e-01, 5.03091142e-05],\n",
              "       [1.15670159e-03, 9.98843312e-01],\n",
              "       [8.77451122e-01, 1.22548848e-01],\n",
              "       [1.01364851e-02, 9.89863455e-01],\n",
              "       [1.00000000e+00, 8.02395217e-09],\n",
              "       [9.86249924e-01, 1.37500530e-02],\n",
              "       [1.07395684e-03, 9.98925984e-01],\n",
              "       [5.84304566e-04, 9.99415755e-01],\n",
              "       [9.05465111e-02, 9.09453511e-01],\n",
              "       [1.00000000e+00, 3.22941851e-08],\n",
              "       [3.58677097e-03, 9.96413291e-01],\n",
              "       [1.02945995e-02, 9.89705384e-01],\n",
              "       [9.99730408e-01, 2.69538781e-04],\n",
              "       [1.51990093e-02, 9.84801054e-01],\n",
              "       [1.00000000e+00, 8.54591062e-18],\n",
              "       [9.99928474e-01, 7.14706475e-05],\n",
              "       [8.36503052e-04, 9.99163508e-01],\n",
              "       [3.89979362e-01, 6.10020578e-01],\n",
              "       [1.00000000e+00, 1.85767701e-09],\n",
              "       [1.24128477e-03, 9.98758674e-01],\n",
              "       [1.39472447e-03, 9.98605311e-01],\n",
              "       [5.39247005e-04, 9.99460757e-01],\n",
              "       [8.57887208e-04, 9.99142051e-01],\n",
              "       [3.65357962e-04, 9.99634624e-01],\n",
              "       [9.95785296e-01, 4.21468774e-03],\n",
              "       [9.99796331e-01, 2.03634801e-04],\n",
              "       [1.22100685e-03, 9.98778999e-01],\n",
              "       [9.99888539e-01, 1.11421112e-04],\n",
              "       [6.22710795e-04, 9.99377310e-01],\n",
              "       [7.76933670e-01, 2.23066360e-01],\n",
              "       [9.99889493e-01, 1.10490480e-04],\n",
              "       [2.91427504e-03, 9.97085750e-01],\n",
              "       [3.79234366e-02, 9.62076545e-01],\n",
              "       [1.00000000e+00, 7.31187272e-20],\n",
              "       [4.40454157e-03, 9.95595515e-01],\n",
              "       [9.99994397e-01, 5.62711693e-06],\n",
              "       [1.32230821e-03, 9.98677671e-01],\n",
              "       [1.07194413e-03, 9.98928010e-01],\n",
              "       [1.00000000e+00, 1.01040278e-08],\n",
              "       [9.99996781e-01, 3.26428267e-06],\n",
              "       [1.61650702e-02, 9.83834982e-01],\n",
              "       [3.26301064e-03, 9.96736944e-01],\n",
              "       [1.93592685e-04, 9.99806464e-01],\n",
              "       [1.00000000e+00, 4.32580653e-17],\n",
              "       [9.99789059e-01, 2.10954851e-04],\n",
              "       [1.00000000e+00, 2.36739321e-08],\n",
              "       [9.99474823e-01, 5.25230018e-04],\n",
              "       [9.92088258e-01, 7.91177806e-03],\n",
              "       [9.99498248e-01, 5.01784263e-04],\n",
              "       [9.99876380e-01, 1.23569887e-04],\n",
              "       [1.99668994e-03, 9.98003304e-01],\n",
              "       [9.98245358e-01, 1.75466377e-03],\n",
              "       [1.00000000e+00, 5.27127719e-09],\n",
              "       [9.99496698e-01, 5.03274146e-04],\n",
              "       [5.52681834e-02, 9.44731772e-01],\n",
              "       [1.00000000e+00, 8.95869099e-13],\n",
              "       [9.99934793e-01, 6.52210583e-05],\n",
              "       [3.90699536e-01, 6.09300494e-01],\n",
              "       [9.99995351e-01, 4.60055253e-06],\n",
              "       [9.99997735e-01, 2.22940434e-06],\n",
              "       [2.20155716e-03, 9.97798383e-01],\n",
              "       [1.86835916e-03, 9.98131692e-01],\n",
              "       [2.27636332e-03, 9.97723639e-01],\n",
              "       [2.81368554e-01, 7.18631446e-01],\n",
              "       [2.16393769e-02, 9.78360653e-01],\n",
              "       [9.99998927e-01, 1.03983905e-06],\n",
              "       [9.45340726e-04, 9.99054611e-01],\n",
              "       [1.00000000e+00, 4.69172748e-12],\n",
              "       [1.04857015e-03, 9.98951435e-01],\n",
              "       [9.99880433e-01, 1.19498480e-04],\n",
              "       [9.99999642e-01, 3.75914283e-07],\n",
              "       [9.99907136e-01, 9.28651425e-05],\n",
              "       [1.01603977e-01, 8.98395956e-01],\n",
              "       [9.96377170e-01, 3.62288533e-03],\n",
              "       [1.18752085e-01, 8.81247938e-01],\n",
              "       [4.25328763e-04, 9.99574721e-01],\n",
              "       [2.86305938e-02, 9.71369386e-01],\n",
              "       [7.31396675e-01, 2.68603265e-01],\n",
              "       [7.40484288e-03, 9.92595136e-01],\n",
              "       [9.85052288e-01, 1.49477255e-02],\n",
              "       [9.99894977e-01, 1.05057654e-04],\n",
              "       [9.99986649e-01, 1.33829381e-05],\n",
              "       [3.19798081e-03, 9.96801972e-01],\n",
              "       [9.99669075e-01, 3.30882787e-04],\n",
              "       [1.00000000e+00, 9.77535053e-10],\n",
              "       [9.99460280e-01, 5.39737579e-04],\n",
              "       [1.41070187e-01, 8.58929753e-01],\n",
              "       [1.00000000e+00, 2.46137028e-16],\n",
              "       [9.99978900e-01, 2.10607413e-05],\n",
              "       [8.41411650e-02, 9.15858805e-01]], dtype=float32)"
            ]
          },
          "metadata": {
            "tags": []
          },
          "execution_count": 31
        }
      ]
    },
    {
      "cell_type": "code",
      "metadata": {
        "id": "WU0nSkPiR60F"
      },
      "source": [
        "import numpy as np\n",
        "y_pred = np.argmax(y_pred, axis=0)"
      ],
      "execution_count": 47,
      "outputs": []
    },
    {
      "cell_type": "code",
      "metadata": {
        "id": "cCY2P1x3SFcB",
        "colab": {
          "base_uri": "https://localhost:8080/"
        },
        "outputId": "40a15d42-5ce2-4b71-81c0-38983fc668b6"
      },
      "source": [
        "y_pred"
      ],
      "execution_count": 48,
      "outputs": [
        {
          "output_type": "execute_result",
          "data": {
            "text/plain": [
              "0"
            ]
          },
          "metadata": {
            "tags": []
          },
          "execution_count": 48
        }
      ]
    },
    {
      "cell_type": "code",
      "metadata": {
        "id": "60LCmJ2PSFrK"
      },
      "source": [
        "from tensorflow.keras.models import load_model\n",
        "from tensorflow.keras.preprocessing import image"
      ],
      "execution_count": 38,
      "outputs": []
    },
    {
      "cell_type": "code",
      "metadata": {
        "id": "-luZuG5KSqAn"
      },
      "source": [
        "model = load_model('model_vgg19.h5')"
      ],
      "execution_count": 49,
      "outputs": []
    },
    {
      "cell_type": "code",
      "metadata": {
        "id": "lj1h0KICSusm"
      },
      "source": [
        "img=image.load_img('/content/drive/MyDrive/Dataset/Test/Uninfected/2.png',target_size=(224,224))"
      ],
      "execution_count": 50,
      "outputs": []
    },
    {
      "cell_type": "code",
      "metadata": {
        "id": "Jj_mGgdIVPJz",
        "colab": {
          "base_uri": "https://localhost:8080/"
        },
        "outputId": "7afc0b8f-a75a-43d4-e78f-6ca4ff4a2264"
      },
      "source": [
        "x=image.img_to_array(img)\n",
        "x"
      ],
      "execution_count": 51,
      "outputs": [
        {
          "output_type": "execute_result",
          "data": {
            "text/plain": [
              "array([[[0., 0., 0.],\n",
              "        [0., 0., 0.],\n",
              "        [0., 0., 0.],\n",
              "        ...,\n",
              "        [0., 0., 0.],\n",
              "        [0., 0., 0.],\n",
              "        [0., 0., 0.]],\n",
              "\n",
              "       [[0., 0., 0.],\n",
              "        [0., 0., 0.],\n",
              "        [0., 0., 0.],\n",
              "        ...,\n",
              "        [0., 0., 0.],\n",
              "        [0., 0., 0.],\n",
              "        [0., 0., 0.]],\n",
              "\n",
              "       [[0., 0., 0.],\n",
              "        [0., 0., 0.],\n",
              "        [0., 0., 0.],\n",
              "        ...,\n",
              "        [0., 0., 0.],\n",
              "        [0., 0., 0.],\n",
              "        [0., 0., 0.]],\n",
              "\n",
              "       ...,\n",
              "\n",
              "       [[0., 0., 0.],\n",
              "        [0., 0., 0.],\n",
              "        [0., 0., 0.],\n",
              "        ...,\n",
              "        [0., 0., 0.],\n",
              "        [0., 0., 0.],\n",
              "        [0., 0., 0.]],\n",
              "\n",
              "       [[0., 0., 0.],\n",
              "        [0., 0., 0.],\n",
              "        [0., 0., 0.],\n",
              "        ...,\n",
              "        [0., 0., 0.],\n",
              "        [0., 0., 0.],\n",
              "        [0., 0., 0.]],\n",
              "\n",
              "       [[0., 0., 0.],\n",
              "        [0., 0., 0.],\n",
              "        [0., 0., 0.],\n",
              "        ...,\n",
              "        [0., 0., 0.],\n",
              "        [0., 0., 0.],\n",
              "        [0., 0., 0.]]], dtype=float32)"
            ]
          },
          "metadata": {
            "tags": []
          },
          "execution_count": 51
        }
      ]
    },
    {
      "cell_type": "code",
      "metadata": {
        "id": "rMqFDpevVPMG",
        "colab": {
          "base_uri": "https://localhost:8080/"
        },
        "outputId": "e4527e8c-ae66-4f6b-94bf-f5cc19b6e28b"
      },
      "source": [
        "x.shape"
      ],
      "execution_count": 42,
      "outputs": [
        {
          "output_type": "execute_result",
          "data": {
            "text/plain": [
              "(224, 224, 3)"
            ]
          },
          "metadata": {
            "tags": []
          },
          "execution_count": 42
        }
      ]
    },
    {
      "cell_type": "code",
      "metadata": {
        "id": "fmFqDBOTbxZx"
      },
      "source": [
        "x=x/255"
      ],
      "execution_count": 52,
      "outputs": []
    },
    {
      "cell_type": "code",
      "metadata": {
        "colab": {
          "base_uri": "https://localhost:8080/"
        },
        "id": "WBNMyARcbzai",
        "outputId": "58962fdf-3704-4a61-b79a-ea66aa844390"
      },
      "source": [
        "x=np.expand_dims(x,axis=0)\n",
        "img_data=preprocess_input(x)\n",
        "img_data.shape"
      ],
      "execution_count": 53,
      "outputs": [
        {
          "output_type": "execute_result",
          "data": {
            "text/plain": [
              "(1, 224, 224, 3)"
            ]
          },
          "metadata": {
            "tags": []
          },
          "execution_count": 53
        }
      ]
    },
    {
      "cell_type": "code",
      "metadata": {
        "colab": {
          "base_uri": "https://localhost:8080/"
        },
        "id": "8ApJAacHb1VX",
        "outputId": "0c2609ee-2294-4036-e6ed-39050a3d0668"
      },
      "source": [
        "\n",
        "model.predict(img_data)"
      ],
      "execution_count": 54,
      "outputs": [
        {
          "output_type": "execute_result",
          "data": {
            "text/plain": [
              "array([[0., 1.]], dtype=float32)"
            ]
          },
          "metadata": {
            "tags": []
          },
          "execution_count": 54
        }
      ]
    },
    {
      "cell_type": "code",
      "metadata": {
        "id": "SdoSABp0b4lh"
      },
      "source": [
        "a=np.argmax(model.predict(img_data), axis=1)"
      ],
      "execution_count": 55,
      "outputs": []
    },
    {
      "cell_type": "code",
      "metadata": {
        "colab": {
          "base_uri": "https://localhost:8080/"
        },
        "id": "x-9NQB4wb9vF",
        "outputId": "10c10214-1b43-4d0c-de56-a961bf000fb6"
      },
      "source": [
        "if(a==1):\n",
        "    print(\"Uninfected\")\n",
        "else:\n",
        "    print(\"Infected\")"
      ],
      "execution_count": 56,
      "outputs": [
        {
          "output_type": "stream",
          "text": [
            "Uninfected\n"
          ],
          "name": "stdout"
        }
      ]
    },
    {
      "cell_type": "code",
      "metadata": {
        "id": "gyMNnbXecA2-"
      },
      "source": [
        ""
      ],
      "execution_count": null,
      "outputs": []
    }
  ]
}